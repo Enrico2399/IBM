{
 "cells": [
  {
   "cell_type": "markdown",
   "id": "ff667a44-5f44-4478-9865-636e28e6fe9c",
   "metadata": {},
   "source": [
    "# Data Science Tools and Ecosystem\n",
    "In this notebook, Data Science Tools and Ecosystem are summarized."
   ]
  },
  {
   "cell_type": "markdown",
   "id": "69e546f1-dbd1-4d35-9e37-afb97e71262e",
   "metadata": {},
   "source": [
    "Some of the popular languages that Data Scientists use are:\n",
    "1. Python\n",
    "2. R\n",
    "3. C++\n",
    "4. JavaScript\n",
    "8. Java\n"
   ]
  },
  {
   "cell_type": "markdown",
   "id": "0b0d6ed5-9203-4016-8110-9c5c0158c79e",
   "metadata": {},
   "source": [
    "Some of the commonly used libraries used by Data Scientists include:\n",
    "- TensorFlow\n",
    "- PyTorch\n",
    "- Keras\n",
    "- On R :\n",
    "  1. ggplot : ... #Guarda appunti oer descriione\n",
    "  2. dplyr\n",
    "  3. ploty\n",
    "  4. stringr\n",
    "  5. carel\n",
    "  6. Lattice\n",
    "  7. Leaftel\n",
    "- On Python"
   ]
  },
  {
   "cell_type": "markdown",
   "id": "909f739d-05cb-4415-8d5f-66d6912634f5",
   "metadata": {},
   "source": [
    "#Tabella in MK con tools per DataScienze"
   ]
  },
  {
   "cell_type": "code",
   "execution_count": 5,
   "id": "fbac3b4d-33a5-4fec-979e-95f67a162ebb",
   "metadata": {},
   "outputs": [],
   "source": [
    "# Espressioni aritmetiche copia da appunti UNI"
   ]
  },
  {
   "cell_type": "markdown",
   "id": "359586a0-da86-402d-b5e3-02100c00c2ce",
   "metadata": {},
   "source": [
    "Crei una cella di codice per moltiplicare e aggiungere numeri\n",
    "(3*4)+5ne\n"
   ]
  },
  {
   "cell_type": "code",
   "execution_count": 26,
   "id": "ee38b50e-0ebf-47c4-ba61-40171e8eacfc",
   "metadata": {},
   "outputs": [
    {
     "name": "stdin",
     "output_type": "stream",
     "text": [
      "Enter the minutes :  650\n"
     ]
    },
    {
     "name": "stdout",
     "output_type": "stream",
     "text": [
      "Total hours :  10.833333333333334\n"
     ]
    }
   ],
   "source": [
    "minutes = input(\"Enter the minutes : \")\n",
    "hours = (int(minutes))/60\n",
    "print(\"Total hours : \", hours)"
   ]
  },
  {
   "cell_type": "code",
   "execution_count": 12,
   "id": "f9426751-8156-4d5a-a068-4e74ebbb256b",
   "metadata": {},
   "outputs": [
    {
     "name": "stdout",
     "output_type": "stream",
     "text": [
      "17\n"
     ]
    }
   ],
   "source": [
    "print((3*4)+5)"
   ]
  },
  {
   "cell_type": "code",
   "execution_count": null,
   "id": "ee369edb-302e-4ced-bc20-3d49d67954f5",
   "metadata": {},
   "outputs": [],
   "source": []
  }
 ],
 "metadata": {
  "kernelspec": {
   "display_name": "Python 3 (ipykernel)",
   "language": "python",
   "name": "python3"
  },
  "language_info": {
   "codemirror_mode": {
    "name": "ipython",
    "version": 3
   },
   "file_extension": ".py",
   "mimetype": "text/x-python",
   "name": "python",
   "nbconvert_exporter": "python",
   "pygments_lexer": "ipython3",
   "version": "3.11.7"
  }
 },
 "nbformat": 4,
 "nbformat_minor": 5
}

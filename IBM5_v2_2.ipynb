{
 "cells": [
  {
   "cell_type": "markdown",
   "metadata": {},
   "source": [
    "# Extracting Tesla and GameStop Stock Data\n",
    "## Content Description\n",
    "About this project:\n",
    "The tesla company and the GameStop company will be taken as examples\n",
    "1. Two different balance data extraction techniques will be used:\n",
    "    1. The first extraction of financial statement data will be based on the use of the yfinance library\n",
    "    2. The second method of extracting balance sheet data will be based on the webscaping technique, i.e. web pages with the interested data will be scanned and they will be processed\n",
    "2. In the final part of the project, the data from both balance will be processed to project a graph based on two axes, one will be the balance in millions, the other axis will correspond to the trend over the years of the balance\n",
    "## Summerie\n",
    "1. Use yfinance to Extract Stock Data about Tesla\n",
    "2. Use Webscraping to Extract Tesla Revenue Data\n",
    "3. Use yfinance to Extract Stock Data about GameStop\n",
    "4. Use Webscraping to Extract GameStop Revenue Data\n",
    "5. Plot Tesla Stock Graph\n",
    "6. Plot GameStop Stock Graph\n",
    "## Lenguages and libraries\n",
    "In this project I will use Python and Markdown, in addiction the following libraries :\n",
    "- yfinance : for have the balance of different company\n",
    "- requests : for the webscariping process \n",
    "- BeautifulSoup : for the webscariping process \n",
    "- plotly : for draw graphs\n",
    "- matplotlib : for easy math and draw graphs"
   ]
  },
  {
   "cell_type": "code",
   "execution_count": 1,
   "metadata": {},
   "outputs": [
    {
     "name": "stdout",
     "output_type": "stream",
     "text": [
      "Requirement already satisfied: yfinance in c:\\users\\ebs\\appdata\\local\\programs\\python\\python312\\lib\\site-packages (0.2.40)\n",
      "Requirement already satisfied: pandas>=1.3.0 in c:\\users\\ebs\\appdata\\local\\programs\\python\\python312\\lib\\site-packages (from yfinance) (2.2.2)\n",
      "Requirement already satisfied: numpy>=1.16.5 in c:\\users\\ebs\\appdata\\local\\programs\\python\\python312\\lib\\site-packages (from yfinance) (1.26.4)\n",
      "Requirement already satisfied: requests>=2.31 in c:\\users\\ebs\\appdata\\local\\programs\\python\\python312\\lib\\site-packages (from yfinance) (2.32.3)\n",
      "Requirement already satisfied: multitasking>=0.0.7 in c:\\users\\ebs\\appdata\\local\\programs\\python\\python312\\lib\\site-packages (from yfinance) (0.0.11)\n",
      "Requirement already satisfied: lxml>=4.9.1 in c:\\users\\ebs\\appdata\\local\\programs\\python\\python312\\lib\\site-packages (from yfinance) (5.2.2)\n",
      "Requirement already satisfied: platformdirs>=2.0.0 in c:\\users\\ebs\\appdata\\roaming\\python\\python312\\site-packages (from yfinance) (4.2.2)\n",
      "Requirement already satisfied: pytz>=2022.5 in c:\\users\\ebs\\appdata\\local\\programs\\python\\python312\\lib\\site-packages (from yfinance) (2024.1)\n",
      "Requirement already satisfied: frozendict>=2.3.4 in c:\\users\\ebs\\appdata\\local\\programs\\python\\python312\\lib\\site-packages (from yfinance) (2.4.4)\n",
      "Requirement already satisfied: peewee>=3.16.2 in c:\\users\\ebs\\appdata\\local\\programs\\python\\python312\\lib\\site-packages (from yfinance) (3.17.5)\n",
      "Requirement already satisfied: beautifulsoup4>=4.11.1 in c:\\users\\ebs\\appdata\\local\\programs\\python\\python312\\lib\\site-packages (from yfinance) (4.12.3)\n",
      "Requirement already satisfied: html5lib>=1.1 in c:\\users\\ebs\\appdata\\local\\programs\\python\\python312\\lib\\site-packages (from yfinance) (1.1)\n",
      "Requirement already satisfied: soupsieve>1.2 in c:\\users\\ebs\\appdata\\local\\programs\\python\\python312\\lib\\site-packages (from beautifulsoup4>=4.11.1->yfinance) (2.5)\n",
      "Requirement already satisfied: six>=1.9 in c:\\users\\ebs\\appdata\\local\\programs\\python\\python312\\lib\\site-packages (from html5lib>=1.1->yfinance) (1.16.0)\n",
      "Requirement already satisfied: webencodings in c:\\users\\ebs\\appdata\\local\\programs\\python\\python312\\lib\\site-packages (from html5lib>=1.1->yfinance) (0.5.1)\n",
      "Requirement already satisfied: python-dateutil>=2.8.2 in c:\\users\\ebs\\appdata\\roaming\\python\\python312\\site-packages (from pandas>=1.3.0->yfinance) (2.9.0.post0)\n",
      "Requirement already satisfied: tzdata>=2022.7 in c:\\users\\ebs\\appdata\\local\\programs\\python\\python312\\lib\\site-packages (from pandas>=1.3.0->yfinance) (2024.1)\n",
      "Requirement already satisfied: charset-normalizer<4,>=2 in c:\\users\\ebs\\appdata\\local\\programs\\python\\python312\\lib\\site-packages (from requests>=2.31->yfinance) (3.3.2)\n",
      "Requirement already satisfied: idna<4,>=2.5 in c:\\users\\ebs\\appdata\\local\\programs\\python\\python312\\lib\\site-packages (from requests>=2.31->yfinance) (3.7)\n",
      "Requirement already satisfied: urllib3<3,>=1.21.1 in c:\\users\\ebs\\appdata\\local\\programs\\python\\python312\\lib\\site-packages (from requests>=2.31->yfinance) (2.2.1)\n",
      "Requirement already satisfied: certifi>=2017.4.17 in c:\\users\\ebs\\appdata\\local\\programs\\python\\python312\\lib\\site-packages (from requests>=2.31->yfinance) (2024.6.2)\n",
      "Note: you may need to restart the kernel to use updated packages.\n",
      "Requirement already satisfied: requests in c:\\users\\ebs\\appdata\\local\\programs\\python\\python312\\lib\\site-packages (2.32.3)\n",
      "Requirement already satisfied: charset-normalizer<4,>=2 in c:\\users\\ebs\\appdata\\local\\programs\\python\\python312\\lib\\site-packages (from requests) (3.3.2)\n",
      "Requirement already satisfied: idna<4,>=2.5 in c:\\users\\ebs\\appdata\\local\\programs\\python\\python312\\lib\\site-packages (from requests) (3.7)\n",
      "Requirement already satisfied: urllib3<3,>=1.21.1 in c:\\users\\ebs\\appdata\\local\\programs\\python\\python312\\lib\\site-packages (from requests) (2.2.1)\n",
      "Requirement already satisfied: certifi>=2017.4.17 in c:\\users\\ebs\\appdata\\local\\programs\\python\\python312\\lib\\site-packages (from requests) (2024.6.2)\n",
      "Note: you may need to restart the kernel to use updated packages.\n",
      "Requirement already satisfied: bs4 in c:\\users\\ebs\\appdata\\local\\programs\\python\\python312\\lib\\site-packages (0.0.2)\n",
      "Requirement already satisfied: beautifulsoup4 in c:\\users\\ebs\\appdata\\local\\programs\\python\\python312\\lib\\site-packages (from bs4) (4.12.3)\n",
      "Requirement already satisfied: soupsieve>1.2 in c:\\users\\ebs\\appdata\\local\\programs\\python\\python312\\lib\\site-packages (from beautifulsoup4->bs4) (2.5)\n",
      "Note: you may need to restart the kernel to use updated packages.\n",
      "Requirement already satisfied: plotly in c:\\users\\ebs\\appdata\\local\\programs\\python\\python312\\lib\\site-packages (5.22.0)\n",
      "Requirement already satisfied: tenacity>=6.2.0 in c:\\users\\ebs\\appdata\\local\\programs\\python\\python312\\lib\\site-packages (from plotly) (8.3.0)\n",
      "Requirement already satisfied: packaging in c:\\users\\ebs\\appdata\\roaming\\python\\python312\\site-packages (from plotly) (24.1)\n",
      "Note: you may need to restart the kernel to use updated packages.\n",
      "Requirement already satisfied: matplotlib in c:\\users\\ebs\\appdata\\local\\programs\\python\\python312\\lib\\site-packages (3.9.0)\n",
      "Requirement already satisfied: contourpy>=1.0.1 in c:\\users\\ebs\\appdata\\local\\programs\\python\\python312\\lib\\site-packages (from matplotlib) (1.2.1)\n",
      "Requirement already satisfied: cycler>=0.10 in c:\\users\\ebs\\appdata\\local\\programs\\python\\python312\\lib\\site-packages (from matplotlib) (0.12.1)\n",
      "Requirement already satisfied: fonttools>=4.22.0 in c:\\users\\ebs\\appdata\\local\\programs\\python\\python312\\lib\\site-packages (from matplotlib) (4.53.0)\n",
      "Requirement already satisfied: kiwisolver>=1.3.1 in c:\\users\\ebs\\appdata\\local\\programs\\python\\python312\\lib\\site-packages (from matplotlib) (1.4.5)\n",
      "Requirement already satisfied: numpy>=1.23 in c:\\users\\ebs\\appdata\\local\\programs\\python\\python312\\lib\\site-packages (from matplotlib) (1.26.4)\n",
      "Requirement already satisfied: packaging>=20.0 in c:\\users\\ebs\\appdata\\roaming\\python\\python312\\site-packages (from matplotlib) (24.1)\n",
      "Requirement already satisfied: pillow>=8 in c:\\users\\ebs\\appdata\\local\\programs\\python\\python312\\lib\\site-packages (from matplotlib) (10.3.0)\n",
      "Requirement already satisfied: pyparsing>=2.3.1 in c:\\users\\ebs\\appdata\\local\\programs\\python\\python312\\lib\\site-packages (from matplotlib) (3.1.2)\n",
      "Requirement already satisfied: python-dateutil>=2.7 in c:\\users\\ebs\\appdata\\roaming\\python\\python312\\site-packages (from matplotlib) (2.9.0.post0)\n",
      "Requirement already satisfied: six>=1.5 in c:\\users\\ebs\\appdata\\local\\programs\\python\\python312\\lib\\site-packages (from python-dateutil>=2.7->matplotlib) (1.16.0)\n",
      "Note: you may need to restart the kernel to use updated packages.\n"
     ]
    }
   ],
   "source": [
    "%pip install yfinance\n",
    "%pip install requests\n",
    "%pip install bs4\n",
    "%pip install plotly\n",
    "%pip install matplotlib"
   ]
  },
  {
   "cell_type": "markdown",
   "metadata": {},
   "source": [
    "# Use yfinance to Extract Stock Data about Tesla"
   ]
  },
  {
   "cell_type": "code",
   "execution_count": 2,
   "metadata": {},
   "outputs": [],
   "source": [
    "import yfinance as yf\n",
    "import requests\n",
    "import pandas as pd\n",
    "from bs4 import BeautifulSoup"
   ]
  },
  {
   "cell_type": "code",
   "execution_count": 3,
   "metadata": {},
   "outputs": [],
   "source": [
    "tesla=yf.Ticker('TSLA')"
   ]
  },
  {
   "cell_type": "code",
   "execution_count": 4,
   "metadata": {},
   "outputs": [],
   "source": [
    "tesla_data=tesla.history(period=\"ytd\")"
   ]
  },
  {
   "cell_type": "code",
   "execution_count": 5,
   "metadata": {},
   "outputs": [
    {
     "data": {
      "text/html": [
       "<div>\n",
       "<style scoped>\n",
       "    .dataframe tbody tr th:only-of-type {\n",
       "        vertical-align: middle;\n",
       "    }\n",
       "\n",
       "    .dataframe tbody tr th {\n",
       "        vertical-align: top;\n",
       "    }\n",
       "\n",
       "    .dataframe thead th {\n",
       "        text-align: right;\n",
       "    }\n",
       "</style>\n",
       "<table border=\"1\" class=\"dataframe\">\n",
       "  <thead>\n",
       "    <tr style=\"text-align: right;\">\n",
       "      <th></th>\n",
       "      <th>Date</th>\n",
       "      <th>Open</th>\n",
       "      <th>High</th>\n",
       "      <th>Low</th>\n",
       "      <th>Close</th>\n",
       "      <th>Volume</th>\n",
       "      <th>Dividends</th>\n",
       "      <th>Stock Splits</th>\n",
       "    </tr>\n",
       "  </thead>\n",
       "  <tbody>\n",
       "    <tr>\n",
       "      <th>0</th>\n",
       "      <td>2024-01-02 00:00:00-05:00</td>\n",
       "      <td>250.080002</td>\n",
       "      <td>251.250000</td>\n",
       "      <td>244.410004</td>\n",
       "      <td>248.419998</td>\n",
       "      <td>104654200</td>\n",
       "      <td>0.0</td>\n",
       "      <td>0.0</td>\n",
       "    </tr>\n",
       "    <tr>\n",
       "      <th>1</th>\n",
       "      <td>2024-01-03 00:00:00-05:00</td>\n",
       "      <td>244.979996</td>\n",
       "      <td>245.679993</td>\n",
       "      <td>236.320007</td>\n",
       "      <td>238.449997</td>\n",
       "      <td>121082600</td>\n",
       "      <td>0.0</td>\n",
       "      <td>0.0</td>\n",
       "    </tr>\n",
       "    <tr>\n",
       "      <th>2</th>\n",
       "      <td>2024-01-04 00:00:00-05:00</td>\n",
       "      <td>239.250000</td>\n",
       "      <td>242.699997</td>\n",
       "      <td>237.729996</td>\n",
       "      <td>237.929993</td>\n",
       "      <td>102629300</td>\n",
       "      <td>0.0</td>\n",
       "      <td>0.0</td>\n",
       "    </tr>\n",
       "    <tr>\n",
       "      <th>3</th>\n",
       "      <td>2024-01-05 00:00:00-05:00</td>\n",
       "      <td>236.860001</td>\n",
       "      <td>240.119995</td>\n",
       "      <td>234.899994</td>\n",
       "      <td>237.490005</td>\n",
       "      <td>92379400</td>\n",
       "      <td>0.0</td>\n",
       "      <td>0.0</td>\n",
       "    </tr>\n",
       "    <tr>\n",
       "      <th>4</th>\n",
       "      <td>2024-01-08 00:00:00-05:00</td>\n",
       "      <td>236.139999</td>\n",
       "      <td>241.250000</td>\n",
       "      <td>235.300003</td>\n",
       "      <td>240.449997</td>\n",
       "      <td>85166600</td>\n",
       "      <td>0.0</td>\n",
       "      <td>0.0</td>\n",
       "    </tr>\n",
       "  </tbody>\n",
       "</table>\n",
       "</div>"
      ],
      "text/plain": [
       "                       Date        Open        High         Low       Close  \\\n",
       "0 2024-01-02 00:00:00-05:00  250.080002  251.250000  244.410004  248.419998   \n",
       "1 2024-01-03 00:00:00-05:00  244.979996  245.679993  236.320007  238.449997   \n",
       "2 2024-01-04 00:00:00-05:00  239.250000  242.699997  237.729996  237.929993   \n",
       "3 2024-01-05 00:00:00-05:00  236.860001  240.119995  234.899994  237.490005   \n",
       "4 2024-01-08 00:00:00-05:00  236.139999  241.250000  235.300003  240.449997   \n",
       "\n",
       "      Volume  Dividends  Stock Splits  \n",
       "0  104654200        0.0           0.0  \n",
       "1  121082600        0.0           0.0  \n",
       "2  102629300        0.0           0.0  \n",
       "3   92379400        0.0           0.0  \n",
       "4   85166600        0.0           0.0  "
      ]
     },
     "execution_count": 5,
     "metadata": {},
     "output_type": "execute_result"
    }
   ],
   "source": [
    "tesla_data.reset_index(inplace=True)\n",
    "tesla_data.head()"
   ]
  },
  {
   "cell_type": "markdown",
   "metadata": {},
   "source": [
    "# Use Webscraping to Extract Tesla Revenue Data"
   ]
  },
  {
   "cell_type": "code",
   "execution_count": 6,
   "metadata": {},
   "outputs": [],
   "source": [
    "url=\"https://stockanalysis.com/stocks/tsla/revenue/\"\n",
    "html_data=requests.get(url).text"
   ]
  },
  {
   "cell_type": "code",
   "execution_count": 7,
   "metadata": {},
   "outputs": [],
   "source": [
    "beautiful_soup=BeautifulSoup(html_data,\"html5lib\")"
   ]
  },
  {
   "cell_type": "code",
   "execution_count": 8,
   "metadata": {},
   "outputs": [
    {
     "data": {
      "text/html": [
       "<div>\n",
       "<style scoped>\n",
       "    .dataframe tbody tr th:only-of-type {\n",
       "        vertical-align: middle;\n",
       "    }\n",
       "\n",
       "    .dataframe tbody tr th {\n",
       "        vertical-align: top;\n",
       "    }\n",
       "\n",
       "    .dataframe thead th {\n",
       "        text-align: right;\n",
       "    }\n",
       "</style>\n",
       "<table border=\"1\" class=\"dataframe\">\n",
       "  <thead>\n",
       "    <tr style=\"text-align: right;\">\n",
       "      <th></th>\n",
       "      <th>Years</th>\n",
       "      <th>Revenue</th>\n",
       "    </tr>\n",
       "  </thead>\n",
       "  <tbody>\n",
       "    <tr>\n",
       "      <th>12</th>\n",
       "      <td>2011</td>\n",
       "      <td>204.24M</td>\n",
       "    </tr>\n",
       "    <tr>\n",
       "      <th>13</th>\n",
       "      <td>2010</td>\n",
       "      <td>116.74M</td>\n",
       "    </tr>\n",
       "    <tr>\n",
       "      <th>14</th>\n",
       "      <td>2009</td>\n",
       "      <td>111.94M</td>\n",
       "    </tr>\n",
       "    <tr>\n",
       "      <th>15</th>\n",
       "      <td>2008</td>\n",
       "      <td>14.74M</td>\n",
       "    </tr>\n",
       "    <tr>\n",
       "      <th>16</th>\n",
       "      <td>2007</td>\n",
       "      <td>73.00K</td>\n",
       "    </tr>\n",
       "  </tbody>\n",
       "</table>\n",
       "</div>"
      ],
      "text/plain": [
       "    Years  Revenue\n",
       "12   2011  204.24M\n",
       "13   2010  116.74M\n",
       "14   2009  111.94M\n",
       "15   2008   14.74M\n",
       "16   2007   73.00K"
      ]
     },
     "execution_count": 8,
     "metadata": {},
     "output_type": "execute_result"
    }
   ],
   "source": [
    "tables=beautiful_soup.find_all(\"table\")\n",
    "\n",
    "table_index=0\n",
    "\n",
    "lst_d_tsla = []\n",
    "lst_b_tsla = []\n",
    "\n",
    "for index,table in enumerate(tables):\n",
    "    if(\"Revenue History\" in str(table)):\n",
    "        table_index=index\n",
    "\n",
    "txt_table=tables[table_index].text\n",
    "split_table_tesla=txt_table.split(\"Dec 31\")\n",
    "\n",
    "split_table_tesla.remove(split_table_tesla[0])\n",
    "for id in range(len(split_table_tesla)):\n",
    "    data_time = \"Dec 31\"+split_table_tesla[id][0:6]\n",
    "    lst_d_tsla.append(int(split_table_tesla[id][1:6]))\n",
    "    Bid = split_table_tesla[id].find(\"B\") \n",
    "    Mid = split_table_tesla[id].find(\"M\") \n",
    "    Kid = split_table_tesla[id].find(\"K\") \n",
    "    BMKid = max(max(Bid, Mid), Kid)\n",
    "    if BMKid > 14 :\n",
    "        BMKid = min(Bid, Mid)\n",
    "    value_balance=split_table_tesla[id][6:(BMKid+1)]\n",
    "    lst_b_tsla.append(value_balance)\n",
    "    #print(data_time, value_balance)\n",
    "\n",
    "df_tesla=pd.DataFrame({'Years':lst_d_tsla, 'Revenue': lst_b_tsla})\n",
    "df_tesla.tail()\n"
   ]
  },
  {
   "cell_type": "markdown",
   "metadata": {},
   "source": [
    "# Use yfinance to Extract Stock Data about GameStop"
   ]
  },
  {
   "cell_type": "code",
   "execution_count": 9,
   "metadata": {},
   "outputs": [],
   "source": [
    "gmestop=yf.Ticker(\"GME\")"
   ]
  },
  {
   "cell_type": "code",
   "execution_count": 10,
   "metadata": {},
   "outputs": [],
   "source": [
    "gme_data=gmestop.history(period=\"max\")"
   ]
  },
  {
   "cell_type": "code",
   "execution_count": 11,
   "metadata": {},
   "outputs": [
    {
     "data": {
      "text/html": [
       "<div>\n",
       "<style scoped>\n",
       "    .dataframe tbody tr th:only-of-type {\n",
       "        vertical-align: middle;\n",
       "    }\n",
       "\n",
       "    .dataframe tbody tr th {\n",
       "        vertical-align: top;\n",
       "    }\n",
       "\n",
       "    .dataframe thead th {\n",
       "        text-align: right;\n",
       "    }\n",
       "</style>\n",
       "<table border=\"1\" class=\"dataframe\">\n",
       "  <thead>\n",
       "    <tr style=\"text-align: right;\">\n",
       "      <th></th>\n",
       "      <th>Date</th>\n",
       "      <th>Open</th>\n",
       "      <th>High</th>\n",
       "      <th>Low</th>\n",
       "      <th>Close</th>\n",
       "      <th>Volume</th>\n",
       "      <th>Dividends</th>\n",
       "      <th>Stock Splits</th>\n",
       "    </tr>\n",
       "  </thead>\n",
       "  <tbody>\n",
       "    <tr>\n",
       "      <th>0</th>\n",
       "      <td>2002-02-13 00:00:00-05:00</td>\n",
       "      <td>1.620129</td>\n",
       "      <td>1.693350</td>\n",
       "      <td>1.603296</td>\n",
       "      <td>1.691667</td>\n",
       "      <td>76216000</td>\n",
       "      <td>0.0</td>\n",
       "      <td>0.0</td>\n",
       "    </tr>\n",
       "    <tr>\n",
       "      <th>1</th>\n",
       "      <td>2002-02-14 00:00:00-05:00</td>\n",
       "      <td>1.712707</td>\n",
       "      <td>1.716074</td>\n",
       "      <td>1.670626</td>\n",
       "      <td>1.683250</td>\n",
       "      <td>11021600</td>\n",
       "      <td>0.0</td>\n",
       "      <td>0.0</td>\n",
       "    </tr>\n",
       "    <tr>\n",
       "      <th>2</th>\n",
       "      <td>2002-02-15 00:00:00-05:00</td>\n",
       "      <td>1.683250</td>\n",
       "      <td>1.687458</td>\n",
       "      <td>1.658002</td>\n",
       "      <td>1.674834</td>\n",
       "      <td>8389600</td>\n",
       "      <td>0.0</td>\n",
       "      <td>0.0</td>\n",
       "    </tr>\n",
       "    <tr>\n",
       "      <th>3</th>\n",
       "      <td>2002-02-19 00:00:00-05:00</td>\n",
       "      <td>1.666418</td>\n",
       "      <td>1.666418</td>\n",
       "      <td>1.578048</td>\n",
       "      <td>1.607505</td>\n",
       "      <td>7410400</td>\n",
       "      <td>0.0</td>\n",
       "      <td>0.0</td>\n",
       "    </tr>\n",
       "    <tr>\n",
       "      <th>4</th>\n",
       "      <td>2002-02-20 00:00:00-05:00</td>\n",
       "      <td>1.615920</td>\n",
       "      <td>1.662210</td>\n",
       "      <td>1.603296</td>\n",
       "      <td>1.662210</td>\n",
       "      <td>6892800</td>\n",
       "      <td>0.0</td>\n",
       "      <td>0.0</td>\n",
       "    </tr>\n",
       "  </tbody>\n",
       "</table>\n",
       "</div>"
      ],
      "text/plain": [
       "                       Date      Open      High       Low     Close    Volume  \\\n",
       "0 2002-02-13 00:00:00-05:00  1.620129  1.693350  1.603296  1.691667  76216000   \n",
       "1 2002-02-14 00:00:00-05:00  1.712707  1.716074  1.670626  1.683250  11021600   \n",
       "2 2002-02-15 00:00:00-05:00  1.683250  1.687458  1.658002  1.674834   8389600   \n",
       "3 2002-02-19 00:00:00-05:00  1.666418  1.666418  1.578048  1.607505   7410400   \n",
       "4 2002-02-20 00:00:00-05:00  1.615920  1.662210  1.603296  1.662210   6892800   \n",
       "\n",
       "   Dividends  Stock Splits  \n",
       "0        0.0           0.0  \n",
       "1        0.0           0.0  \n",
       "2        0.0           0.0  \n",
       "3        0.0           0.0  \n",
       "4        0.0           0.0  "
      ]
     },
     "execution_count": 11,
     "metadata": {},
     "output_type": "execute_result"
    }
   ],
   "source": [
    "gme_data.reset_index(inplace=True)\n",
    "gme_data.head()"
   ]
  },
  {
   "cell_type": "markdown",
   "metadata": {},
   "source": [
    "# Use Webscraping to Extract GME Revenue Data"
   ]
  },
  {
   "cell_type": "code",
   "execution_count": 12,
   "metadata": {},
   "outputs": [],
   "source": [
    "import pandas as pd"
   ]
  },
  {
   "cell_type": "code",
   "execution_count": 13,
   "metadata": {},
   "outputs": [],
   "source": [
    "url=\"https://stockanalysis.com/stocks/gme/revenue/\"\n",
    "html_data=requests.get(url).text"
   ]
  },
  {
   "cell_type": "code",
   "execution_count": 14,
   "metadata": {},
   "outputs": [],
   "source": [
    "beautiful_soup=BeautifulSoup(html_data,\"html5lib\")"
   ]
  },
  {
   "cell_type": "code",
   "execution_count": 15,
   "metadata": {},
   "outputs": [
    {
     "data": {
      "text/html": [
       "<div>\n",
       "<style scoped>\n",
       "    .dataframe tbody tr th:only-of-type {\n",
       "        vertical-align: middle;\n",
       "    }\n",
       "\n",
       "    .dataframe tbody tr th {\n",
       "        vertical-align: top;\n",
       "    }\n",
       "\n",
       "    .dataframe thead th {\n",
       "        text-align: right;\n",
       "    }\n",
       "</style>\n",
       "<table border=\"1\" class=\"dataframe\">\n",
       "  <thead>\n",
       "    <tr style=\"text-align: right;\">\n",
       "      <th></th>\n",
       "      <th>Years</th>\n",
       "      <th>Revenue</th>\n",
       "    </tr>\n",
       "  </thead>\n",
       "  <tbody>\n",
       "    <tr>\n",
       "      <th>20</th>\n",
       "      <td>Jan 31, 2004</td>\n",
       "      <td>1.58B</td>\n",
       "    </tr>\n",
       "    <tr>\n",
       "      <th>21</th>\n",
       "      <td>Feb 1, 2003</td>\n",
       "      <td>1.35B</td>\n",
       "    </tr>\n",
       "    <tr>\n",
       "      <th>22</th>\n",
       "      <td>Feb 2, 2002</td>\n",
       "      <td>1.12B</td>\n",
       "    </tr>\n",
       "    <tr>\n",
       "      <th>23</th>\n",
       "      <td>Feb 3, 2001</td>\n",
       "      <td>756.70M</td>\n",
       "    </tr>\n",
       "    <tr>\n",
       "      <th>24</th>\n",
       "      <td>Jan 30, 1999</td>\n",
       "      <td>465.17M</td>\n",
       "    </tr>\n",
       "  </tbody>\n",
       "</table>\n",
       "</div>"
      ],
      "text/plain": [
       "            Years  Revenue\n",
       "20   Jan 31, 2004    1.58B\n",
       "21    Feb 1, 2003    1.35B\n",
       "22    Feb 2, 2002    1.12B\n",
       "23    Feb 3, 2001  756.70M\n",
       "24   Jan 30, 1999  465.17M"
      ]
     },
     "execution_count": 15,
     "metadata": {},
     "output_type": "execute_result"
    }
   ],
   "source": [
    "tables=beautiful_soup.find_all(\"table\")\n",
    "\n",
    "txt_table=tables[0].text\n",
    "\n",
    "split_table_game=txt_table.split(\"%\")\n",
    "\n",
    "list_date_game=[]\n",
    "list_balance_game=[]\n",
    "\n",
    "for id in range(len(split_table_game)):\n",
    "    #time\n",
    "    id_coma = split_table_game[id].find(\",\")\n",
    "    id_balance_b = split_table_game[id].find(\"B\")\n",
    "    id_balance_m = split_table_game[id].find(\"M\")\n",
    "    id_min = min(id_balance_b, id_balance_m)\n",
    "    if id_min < 6 :\n",
    "        id_min = max(id_balance_b, id_balance_m)\n",
    "    list_balance_game.append(split_table_game[id][(id_coma+6):(id_min+1)])\n",
    "    if(id == 0) :\n",
    "        id_first_str = split_table_game[id].find(\"Feb 3\")\n",
    "        list_date_game.append(split_table_game[id][id_first_str:(id_coma+6)])\n",
    "    else:\n",
    "        list_date_game.append(split_table_game[id][0:(id_coma+6)])\n",
    "\n",
    "#for id in range(len(list_date_game)):\n",
    "    # print(id, list_date_game[id], list_balance_game[id])\n",
    "\n",
    "df_game=pd.DataFrame({'Years':list_date_game, 'Revenue': list_balance_game})\n",
    "df_game.tail()"
   ]
  },
  {
   "cell_type": "markdown",
   "metadata": {},
   "source": [
    "# Plot Tesla Stock Graph"
   ]
  },
  {
   "cell_type": "code",
   "execution_count": 16,
   "metadata": {},
   "outputs": [],
   "source": [
    "import matplotlib.pyplot as plt"
   ]
  },
  {
   "cell_type": "code",
   "execution_count": 17,
   "metadata": {},
   "outputs": [],
   "source": [
    "def make_graph(list_x, list_y, title):\n",
    "    plt.plot(list_x, list_y)\n",
    "    plt.xlabel('Years')\n",
    "    plt.ylabel('Millions')\n",
    "    plt.title(title)\n",
    "    plt.show()"
   ]
  },
  {
   "cell_type": "code",
   "execution_count": 18,
   "metadata": {},
   "outputs": [
    {
     "name": "stdout",
     "output_type": "stream",
     "text": [
      "0 2023 96770.0\n",
      "1 2022 81460.0\n",
      "2 2021 53820.0\n",
      "3 2020 31540.0\n",
      "4 2019 24580.0\n",
      "5 2018 21460.0\n",
      "6 2017 11760.0\n",
      "7 2016 7000.0\n",
      "8 2015 4050.0\n",
      "9 2014 3200.0\n",
      "10 2013 2009.9999999999998\n",
      "11 2012 413.26\n",
      "12 2011 204.24\n",
      "13 2010 116.74\n",
      "14 2009 111.94\n",
      "15 2008 14.74\n",
      "16 2007 0.073\n"
     ]
    }
   ],
   "source": [
    "list_date_tesla=[]\n",
    "list_balance_tesla=[]\n",
    "\n",
    "for id in range(len(split_table_tesla)):\n",
    "    start_list=split_table_tesla[id].find(\",\")\n",
    "    start_list_end=len(split_table_tesla[id])\n",
    "    split_table_tesla[id]=split_table_tesla[id][start_list:start_list_end]\n",
    "\n",
    "for id in range(len(split_table_tesla)):\n",
    "    list_date_tesla.append(int(split_table_tesla[id][1:6]))\n",
    "    Bid = split_table_tesla[id].find(\"B\") \n",
    "    Mid = split_table_tesla[id].find(\"M\") \n",
    "    Kid = split_table_tesla[id].find(\"K\") \n",
    "    BMKid = max(max(Bid, Mid), Kid)\n",
    "    k_value = 1.0\n",
    "    if BMKid > 14 :\n",
    "        BMKid = min(Bid, Mid)\n",
    "    if split_table_tesla[id][BMKid] == \"B\":\n",
    "        k_value = 1000.0\n",
    "    elif split_table_tesla[id][BMKid] == \"K\":\n",
    "        k_value = 0.001\n",
    "    list_balance_tesla.append((float(split_table_tesla[id][6:(BMKid)]))*k_value)\n",
    "\n",
    "for id in range(len(list_date_tesla)):\n",
    "    print(id, list_date_tesla[id], list_balance_tesla[id])"
   ]
  },
  {
   "cell_type": "code",
   "execution_count": 19,
   "metadata": {},
   "outputs": [
    {
     "data": {
      "image/png": "[encoded data removed]",
      "text/plain": [
       "<Figure size 640x480 with 1 Axes>"
      ]
     },
     "metadata": {},
     "output_type": "display_data"
    }
   ],
   "source": [
    "make_graph(list_date_tesla, list_balance_tesla,\"Tesla's Balance sheet in Millions\")"
   ]
  },
  {
   "cell_type": "markdown",
   "metadata": {},
   "source": [
    "## Plot GameStop"
   ]
  },
  {
   "cell_type": "code",
   "execution_count": 20,
   "metadata": {},
   "outputs": [],
   "source": [
    "import matplotlib.pyplot as plt"
   ]
  },
  {
   "cell_type": "code",
   "execution_count": 21,
   "metadata": {},
   "outputs": [
    {
     "name": "stdout",
     "output_type": "stream",
     "text": [
      "0 2024 5270.0\n",
      "1 2023 5930.0\n",
      "2 2022 6010.0\n",
      "3 2021 5090.0\n",
      "4 2020 6470.0\n",
      "5 2019 8290.0\n",
      "6 2018 8550.0\n",
      "7 2017 7970.0\n",
      "8 2016 9360.0\n",
      "9 2015 9300.0\n",
      "10 2014 9040.0\n",
      "11 2013 8890.0\n",
      "12 2012 9550.0\n",
      "13 2011 9470.0\n",
      "14 2010 9080.0\n",
      "15 2009 8810.0\n",
      "16 2008 7090.0\n",
      "17 2007 5320.0\n",
      "18 2006 3090.0\n",
      "19 2005 1840.0\n",
      "20 2004 1580.0\n",
      "21 2003 1350.0\n",
      "22 2002 1120.0\n",
      "23 2001 756.7\n",
      "24 1999 465.17\n"
     ]
    }
   ],
   "source": [
    "plot_date=[]\n",
    "plot_balance=[]\n",
    "\n",
    "\n",
    "for id in range(len(list_date_game)):\n",
    "    id_coma = list_date_game[id].find(\",\")\n",
    "    #print(int(list_date[id][(id_coma+1):(id_coma+6)]))\n",
    "    plot_date.append(int(list_date_game[id][(id_coma+1):(id_coma+6)]))\n",
    "    len_num_M = list_balance_game[id].find(\"M\")\n",
    "    len_num_B = list_balance_game[id].find(\"B\")\n",
    "    if len_num_M > len_num_B :\n",
    "        number = float(list_balance_game[id][0:len_num_M])\n",
    "        number = number\n",
    "    else :\n",
    "        number = float(list_balance_game[id][0:len_num_B])\n",
    "        number = number * 1000\n",
    "    plot_balance.append(number)\n",
    "for id in range(len(list_date_game)):\n",
    "    print(id, plot_date[id], plot_balance[id])"
   ]
  },
  {
   "cell_type": "code",
   "execution_count": 22,
   "metadata": {},
   "outputs": [
    {
     "data": {
      "image/png": "[encoded data removed]",
      "text/plain": [
       "<Figure size 640x480 with 1 Axes>"
      ]
     },
     "metadata": {},
     "output_type": "display_data"
    }
   ],
   "source": [
    "\n",
    "make_graph(plot_date, plot_balance,\"GameStop's Balance sheet in Millions\")"
   ]
  },
  {
   "cell_type": "markdown",
   "metadata": {},
   "source": [
    "### Objectives:\n",
    "- Introductions\n",
    "- Extract stock of Tesla by yfinance\n",
    "- Extract stock of Tesla by webscraping\n",
    "- Extract stock of GameStop by yfinance\n",
    "- Extract stock of GameStop by webscraping\n",
    "- Use the webscraping data of Tesla balance for draw a plot\n",
    "- Use the webscraping data of GameStop balance for draw a plot"
   ]
  },
  {
   "cell_type": "markdown",
   "metadata": {},
   "source": [
    "## Author : Enrico Baldasso\n",
    "### Notebook based on course IBM Data Science"
   ]
  }
 ],
 "metadata": {
  "kernelspec": {
   "display_name": "Python 3",
   "language": "python",
   "name": "python3"
  },
  "language_info": {
   "codemirror_mode": {
    "name": "ipython",
    "version": 3
   },
   "file_extension": ".py",
   "mimetype": "text/x-python",
   "name": "python",
   "nbconvert_exporter": "python",
   "pygments_lexer": "ipython3",
   "version": "3.12.2"
  }
 },
 "nbformat": 4,
 "nbformat_minor": 2
}

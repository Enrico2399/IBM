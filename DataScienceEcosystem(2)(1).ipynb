{
  "cells": [
    {
      "cell_type": "markdown",
      "id": "ff667a44-5f44-4478-9865-636e28e6fe9c",
      "metadata": {},
      "source": [
        "# Data Science Tools and Ecosystem\n",
        "### Summerie\n",
        "In this notebook, Data Science Tools and Ecosystem are summarized.\n",
        "This notebook is based on the data science topic, will list languages, libraries, software, \n",
        "tools and much more that could help a computer scientist"
      ]
    },
    {
      "cell_type": "markdown",
      "id": "69e546f1-dbd1-4d35-9e37-afb97e71262e",
      "metadata": {},
      "source": [
        "### Some of the popular languages that Data Scientists use are:\n",
        "1. Python\n",
        "2. R\n",
        "3. C++\n",
        "4. JavaScript\n",
        "5. Java\n",
        "6. Julia\n"
      ]
    },
    {
      "cell_type": "markdown",
      "id": "0b0d6ed5-9203-4016-8110-9c5c0158c79e",
      "metadata": {},
      "source": [
        "### Some of the commonly used libraries used by Data Scientists include:\n",
        "- **TensorFlow** : train and run deep neural networks\n",
        "- **PyTorch** : for data regression and classification in test enviroments  \n",
        "- **Keras** : deep learning neural networks\n",
        "- **Scikit-learn** : for data regression, classification and clustering\n",
        "- **Apache Spark** : general and cluster-computing framework\n",
        "- **Pandas** : tool and data structures for 2D rapresentation\n",
        "- **Matplotlib** : for data visualization via graphs and plot\n",
        "- **Seaborn** : for data visualization via maps and time-series\n",
        "#### List of libraries listed by programming language\n",
        "- On **R** :\n",
        "  1. **ggplot** : for data visualization \n",
        "  2. **dplyr** : for data manipulation\n",
        "  3. **ploty** : web-based data visualization\n",
        "  4. **stringr** : for string manipulation\n",
        "  5. **carel** : for machine learning\n",
        "  6. **Lattice** : for visualization complex data set or multi-variables \n",
        "  7. **Leaftel** : for interactive plot\n",
        "- On **Python** :\n",
        "  1. **NumPy** : for array and matrices rappresentations\n",
        "  4. **Altair** : for data visualization and data analyses\n",
        "  5. **Ploty** : for data visualization and data analyses"
      ]
    },
    {
      "cell_type": "markdown",
      "id": "909f739d-05cb-4415-8d5f-66d6912634f5",
      "metadata": {},
      "source": [
        "### Data Science Tools\n",
        "- Anaconda : is an application with pre installed libraries and Work platforms\n",
        "  1. VS Code\n",
        "  2. JypiterLab JupyterNotebook\n",
        "  3. RStudio \n",
        "- DataBase SQL and NoSQL : for store data and CRUD operations\n",
        "- AI : the simulation of human intelligence processes by machines\n",
        "- MachineLearning : AI how analize and make decision\n",
        "- Deep Learning : AI based on Neural Networks\n",
        "- AI Generative : can create data based on similar examples \n",
        "- Statistic : fundamental science for cleaning and organizing data\n",
        "- Mathematical : necessary for data processing, for example linear agebra to process metrics and images\n",
        "- Tool and libraries : for Data Rapresentation, Analisis, Manipulation\n",
        "- Markdown : is a lightweight markup language for creating formatted text\n",
        "- Git GitHub GitLab : to manage the source code and the projects \n",
        "- Jupyter : The notebook combines live code, equations, narrative text, visualizations, ...\n",
        "- R : specific programming language for computational statistics and graphics\n",
        "- Api : mechanisms that allow two software components to communicate with each other using a set of definitions and protocols\n",
        "- Algorithms : sequence of instructions or steps that define the operations to be performed on the data to obtain the results\n",
        "- Data Structures : entity used to organize a set of data within the computer's memory, and possibly to store it in mass storage\n",
        "- Modules : a file or portion of source code that contains instructions written to be reused several times, in the same or different program"
      ]
    },
    {
      "cell_type": "markdown",
      "id": "79d4bf76-66ec-46c0-939a-1365cd57a58c",
      "metadata": {},
      "source": [
        "### Below are a few examples of evaluating arithmetic expressions in Python"
      ]
    },
    {
      "cell_type": "markdown",
      "id": "359586a0-da86-402d-b5e3-02100c00c2ce",
      "metadata": {},
      "source": [
        "This a simple arithmetic expression to mutiply then add integer"
      ]
    },
    {
      "cell_type": "code",
      "execution_count": 52,
      "id": "ee369edb-302e-4ced-bc20-3d49d67954f5",
      "metadata": {},
      "outputs": [
        {
          "data": {
            "text/plain": [
              "17"
            ]
          },
          "execution_count": 52,
          "metadata": {},
          "output_type": "execute_result"
        }
      ],
      "source": [
        "(3*4)+5"
      ]
    },
    {
      "cell_type": "markdown",
      "id": "0cda412a-d65b-4e09-8e63-3981307e5807",
      "metadata": {},
      "source": [
        "This will convert 200 minutes to hours by diving by 60"
      ]
    },
    {
      "cell_type": "code",
      "execution_count": 54,
      "id": "ee38b50e-0ebf-47c4-ba61-40171e8eacfc",
      "metadata": {
        "scrolled": true
      },
      "outputs": [
        {
          "name": "stdout",
          "output_type": "stream",
          "text": [
            "Total hours in 200 minutes :  3.33\n"
          ]
        }
      ],
      "source": [
        "minutes = 200\n",
        "hours = round((int(minutes))/60, 2)\n",
        "print(\"Total hours in 200 minutes : \", hours)"
      ]
    },
    {
      "cell_type": "markdown",
      "id": "65539b21-1be0-4745-aa18-016a1073fd14",
      "metadata": {},
      "source": [
        "### Objectives:\n",
        "- Introductions\n",
        "- List popular languages for Data Science\n",
        "- List popular libraries for Data Science\n",
        "- Data Science Tools\n",
        "- Simple arithmetic expression\n",
        "- Simple minutes to hours converter"
      ]
    },
    {
      "cell_type": "markdown",
      "id": "5dfd44ca-fade-4307-948a-74929626e372",
      "metadata": {
        "jp-MarkdownHeadingCollapsed": true
      },
      "source": [
        "## Author : Enrico Baldasso\n",
        "### Notebook based on course IBM Data Science"
      ]
    }
  ],
  "metadata": {
    "kernelspec": {
      "display_name": "Python (Pyodide)",
      "language": "python",
      "name": "python"
    },
    "language_info": {
      "codemirror_mode": {
        "name": "python",
        "version": 3
      },
      "file_extension": ".py",
      "mimetype": "text/x-python",
      "name": "python",
      "nbconvert_exporter": "python",
      "pygments_lexer": "ipython3",
      "version": "3.8"
    }
  },
  "nbformat": 4,
  "nbformat_minor": 5
}
